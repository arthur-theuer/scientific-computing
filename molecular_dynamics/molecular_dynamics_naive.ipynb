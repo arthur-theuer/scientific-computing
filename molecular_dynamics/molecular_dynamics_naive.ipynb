{
 "cells": [
  {
   "cell_type": "markdown",
   "metadata": {},
   "source": [
    "# Scientific Computing 5: Molecular dynamics (MD) simulation"
   ]
  },
  {
   "cell_type": "code",
   "execution_count": null,
   "metadata": {},
   "outputs": [],
   "source": [
    "import numpy as np\n",
    "import matplotlib.pyplot as plt\n",
    "from matplotlib.animation import FuncAnimation\n",
    "from matplotlib import cm\n",
    "from tqdm import tqdm"
   ]
  },
  {
   "cell_type": "markdown",
   "metadata": {},
   "source": [
    "### Initalization"
   ]
  },
  {
   "cell_type": "code",
   "execution_count": null,
   "metadata": {},
   "outputs": [],
   "source": [
    "# Physical parameters:\n",
    "N = 100  # number of particles\n",
    "L = np.array([10, 10, 10])  # box size row vector [reduced units]\n",
    "r_min = 0.9  # minimum distance between particles [reduced units]\n",
    "\n",
    "# Simulation parameters:\n",
    "h = 0.001  # time step size of the simulation [reduced units]\n",
    "t_end = 50  # total time of the simulation [reduced units]\n",
    "\n",
    "# Animation settings:\n",
    "duration = 10  # video length [s]\n",
    "FPS = 30  # video framerate [fps]\n",
    "\n",
    "frames = duration * FPS  # total number of frames\n",
    "steps_per_frame = int(round(t_end/h/frames))  # timesteps per frame"
   ]
  },
  {
   "cell_type": "markdown",
   "metadata": {},
   "source": [
    "### Classes and functions"
   ]
  },
  {
   "cell_type": "code",
   "execution_count": null,
   "metadata": {},
   "outputs": [],
   "source": [
    "class Particle:\n",
    "    def __init__(self):\n",
    "        self.x = np.zeros(3)  # position\n",
    "        self.v = np.zeros(3)  # velocity\n",
    "        self.a = np.zeros(3)  # acceleration (= force in reduced units)\n",
    "\n",
    "        self.c = np.zeros(3)  # cell index\n",
    "\n",
    "    def clear_acceleration(self):\n",
    "        self.a = np.zeros(3)\n",
    "    \n",
    "    def make_step(self):  # using semi-implicit Euler method\n",
    "        self.v = self.v + h * self.a\n",
    "        self.x = self.x + h * self.v\n",
    "\n",
    "        self.K = 1/2 * np.linalg.norm(self.v)**2  # calculate kinetic energy\n",
    "    \n",
    "    def restrict_to_box(self):\n",
    "        self.x = self.x - np.floor(self.x / L) * L"
   ]
  },
  {
   "cell_type": "markdown",
   "metadata": {},
   "source": [
    "### Main code"
   ]
  },
  {
   "cell_type": "code",
   "execution_count": null,
   "metadata": {},
   "outputs": [],
   "source": [
    "particles = [Particle() for i in range(N)]\n",
    "\n",
    "i = 0\n",
    "\n",
    "while i < N:  # randomly place all particles in the box\n",
    "    particles[i].x = np.random.default_rng().uniform(size=3) * L\n",
    "    for j in range(i-1):\n",
    "        dx = particles[j].x - particles[i].x\n",
    "        dx = dx - np.round(dx / L) * L\n",
    "        if np.linalg.norm(dx) < r_min:  # check particle distance\n",
    "            i -= 1  # assign new location to particle if it is too close\n",
    "            break\n",
    "\n",
    "    i += 1"
   ]
  },
  {
   "cell_type": "markdown",
   "metadata": {},
   "source": [
    "### Plot initialization"
   ]
  },
  {
   "cell_type": "code",
   "execution_count": null,
   "metadata": {},
   "outputs": [],
   "source": [
    "fig = plt.figure(figsize=(12, 6), dpi=100)\n",
    "\n",
    "ax1 = fig.add_subplot(1, 2, 1, projection=\"3d\")\n",
    "\n",
    "ax1.set_xlim(0, L[0])\n",
    "ax1.set_ylim(0, L[1])\n",
    "ax1.set_zlim(0, L[2])\n",
    "\n",
    "ax1.set_title(\"Molecular dynamics simulation of particles\")\n",
    "ax1.set_xlabel(\"x [reduced units]\")\n",
    "ax1.set_ylabel(\"y [reduced units]\")\n",
    "ax1.set_zlabel(\"z [reduced units]\")\n",
    "\n",
    "dots = []\n",
    "for _ in range(N):\n",
    "    dot = ax1.scatter([], [], [], marker=\"o\")\n",
    "    dots.append(dot)\n",
    "\n",
    "ax2 = fig.add_subplot(1, 2, 2)\n",
    "\n",
    "ax2.set_xlim(0, t_end)\n",
    "ax2.set_ylim(0, 1)\n",
    "ax2.set_title(\"Temperature of the simulated particle system over time\")\n",
    "ax2.set_xlabel(\"Time [reduced units]\")\n",
    "ax2.set_ylabel(\"Temperature [reduced units]\")\n",
    "\n",
    "lt, = ax2.plot([], [], color=\"k\")\n",
    "\n",
    "data = [dots, lt]\n",
    "t, T = [], []\n",
    "\n",
    "plt.tight_layout()\n",
    "plt.subplots_adjust(wspace=0.2)"
   ]
  },
  {
   "cell_type": "markdown",
   "metadata": {},
   "source": [
    "### Run the simulation"
   ]
  },
  {
   "cell_type": "code",
   "execution_count": null,
   "metadata": {},
   "outputs": [],
   "source": [
    "def run_simulation(frame):\n",
    "    for step in range(steps_per_frame):\n",
    "        for i in range(N):\n",
    "            # Clear particle forces before calculating new interactions:\n",
    "            particles[i].clear_acceleration()\n",
    "\n",
    "        for i in range(N):\n",
    "            for j in range(i-1):\n",
    "                # Calculate particle distance (minimum image convention):\n",
    "                dx = particles[j].x - particles[i].x\n",
    "                dx = dx - np.round(dx / L) * L\n",
    "                r = np.linalg.norm(dx)  # calculate distance\n",
    "\n",
    "                # Calculate Lennard-Jones force in reduced units:\n",
    "                f = 24/r * (2/r**12 - 1/r**6) * (dx / r)\n",
    "\n",
    "                # Update forces between interacting particles:\n",
    "                particles[i].a = particles[i].a - f\n",
    "                particles[j].a = particles[j].a + f\n",
    "\n",
    "        for i in range(N):\n",
    "            particles[i].make_step()  # make time step\n",
    "            particles[i].restrict_to_box()  # move particles to the box again\n",
    "\n",
    "            # Update the position of the 3D scatter plot element:\n",
    "            data[0][i]._offsets3d = ([particles[i].x[0]], [particles[i].x[1]], [particles[i].x[2]])\n",
    "\n",
    "            velo = np.linalg.norm(particles[i].v)\n",
    "            norm_velo = velo / np.max([np.linalg.norm(x.v) for x in particles])\n",
    "\n",
    "            data[0][i].set_facecolors(cm.winter(norm_velo))  # set color according to color map\n",
    "\n",
    "    t.append(round(frame * steps_per_frame * h, 2))\n",
    "    T.append(2 * sum(x.K for x in particles) / (3 * (N-1)))\n",
    "\n",
    "    data[1].set_data(t, T)\n",
    "\n",
    "    progress.update(1)\n",
    "\n",
    "    return data"
   ]
  },
  {
   "cell_type": "markdown",
   "metadata": {},
   "source": [
    "### Save the simulation animation"
   ]
  },
  {
   "cell_type": "code",
   "execution_count": null,
   "metadata": {},
   "outputs": [],
   "source": [
    "progress = tqdm(total=frames+1)\n",
    "ani = FuncAnimation(fig, run_simulation, frames=frames, interval=1000/FPS)\n",
    "ani.save(f\"output/md_naive_{N}_{FPS}fps.mp4\", fps=FPS)\n",
    "progress = tqdm(total=frames+1)"
   ]
  }
 ],
 "metadata": {
  "kernelspec": {
   "display_name": "base",
   "language": "python",
   "name": "python3"
  },
  "language_info": {
   "codemirror_mode": {
    "name": "ipython",
    "version": 3
   },
   "file_extension": ".py",
   "mimetype": "text/x-python",
   "name": "python",
   "nbconvert_exporter": "python",
   "pygments_lexer": "ipython3",
   "version": "3.11.4"
  },
  "orig_nbformat": 4
 },
 "nbformat": 4,
 "nbformat_minor": 2
}
