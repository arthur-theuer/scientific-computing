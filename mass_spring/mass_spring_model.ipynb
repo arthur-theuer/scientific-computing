{
 "cells": [
  {
   "cell_type": "markdown",
   "metadata": {},
   "source": [
    "# Scientific Computing 4: Mass-spring physics model\n",
    "This program implements a customizable mass-spring system in 2D to simulate a rubber block dropping on the ground and bouncing under the effect of gravity. It uses *Hooke's law* to model the springs, with all springs having the same stiffness $k$ and rest length $L$, as well as all mass points having the same mass $m$ and viscous damping $\\gamma$.\n",
    "\n",
    "The following default parameters are used:\n",
    "- Point mass $m = 0.001 kg$\n",
    "- Spring stiffness $k = 1000 kg/s^2$\n",
    "- Rest length $L = 0.01 m$\n",
    "- Gravity acceleration $g = 9.81 m/s^2$\n",
    "- Viscous damping coefficient $\\gamma = 0$ or $\\gamma = 0.001$\n",
    "\n",
    "The rubber block is represented by simulating a regular triangular grid of $N = 5 \\times 5$ mass points."
   ]
  },
  {
   "cell_type": "code",
   "execution_count": 42,
   "metadata": {},
   "outputs": [],
   "source": [
    "import numpy as np\n",
    "import matplotlib.pyplot as plt\n",
    "from matplotlib.animation import FuncAnimation"
   ]
  },
  {
   "cell_type": "markdown",
   "metadata": {},
   "source": [
    "### Initalization\n",
    "The parameters below can be changed, although the default parameters provide a reasonably realistic approximation of reality.\n",
    "\n",
    "The ground, onto which the block bounces is represented by an ideal plane at $z = 0$. Any mass point below that level experiences an external upward force $\\vec{f}_i^{ext} = [0, -kz_i]$. Similar sideward forces are applied when the mass points hit the walls. An additional gravitational downward force $\\vec{f}_i^{ext} = [0, -mg]$ is applied at all times. An initial position $x_0$ and velocity $v_0$ can also be chosen.\n",
    "\n",
    "The program uses the semi-implicit Euler method to propagate the mass-soring system in time, recording the spring energy $U$, the kinetic energy $K$, the gravitational potential energy $P$, the contact energy $C$ and the total energy $T$ in each step. They are given by the following equations:\n",
    "\n",
    "$U = \\frac{k}{2} \\sum\\limits_{j=1}^{M} (l_j - L)^2$, &nbsp; $K = \\frac{m}{2} \\sum\\limits_{i=1}^{N} \\lVert \\vec{v}_i \\rVert^2$, &nbsp; $P = mg \\sum\\limits_{i=1}^{N} Z_i$, &nbsp; $C = \\frac{k}{2} \\sum\\limits_{i=1}^{N} z_i^2 \\delta_{z_i < 0}$ &nbsp; where &nbsp; $\\delta_{z_i<0} = \\begin{cases} 1 & \\text{if } z_i < 0 \\\\ 0 & \\text{otherwise} \\end{cases}$\n",
    "\n",
    "The total energy is given by $T = U + K + P + C$ and all the energies are plotted on a $\\log$ scale as a function of time."
   ]
  },
  {
   "cell_type": "code",
   "execution_count": 43,
   "metadata": {},
   "outputs": [],
   "source": [
    "# Physical parameters:\n",
    "m = 0.001  # point mass [kg]\n",
    "k = 1000  # spring stiffness [kg/s^2]\n",
    "L = 0.01  # rest length [m]\n",
    "g = 9.81  # gravity acceleration [m/s^2]\n",
    "gamma = 0.  # viscous damping coefficient [kg/s] (0 = no damping)\n",
    "\n",
    "# Set flag for walls that should be removed to False:\n",
    "ground_flag = True\n",
    "ceil_flag = False\n",
    "left_flag = True\n",
    "right_flag = True\n",
    "\n",
    "ground = 0  # z position of the floor plot ylim\n",
    "ceiling = 0.25  # z position of the ceiling and plot ylim\n",
    "left_wall = -0.1  # x position of the barrier to the left and plot xlim\n",
    "right_wall = 0.15  # x position of the barrier to the right and plot xlim\n",
    "\n",
    "# Simulation parameters:\n",
    "t_end = 6.  # simulation end time [s]\n",
    "h = np.sqrt(m/k)/2  # simulation timestep [s]\n",
    "\n",
    "n = 5  # number of mass points in each direction\n",
    "N = n**2  # total number of mass points\n",
    "M = (n-1) * (3*n-1)  # number of springs connecting the mass points\n",
    "\n",
    "# Initial position and velocity:\n",
    "x0 = np.array([-0.09, 0.26])  # starting position of lower left corner [m]\n",
    "v0 = np.array([0.2, 0.0])  # starting velocity [m/s]\n",
    "\n",
    "# Animation settings:\n",
    "duration = 20  # video length [s]\n",
    "FPS = 30  # video framerate [fps]\n",
    "\n",
    "frames = duration * FPS  # total number of frames\n",
    "steps_per_frame = int(round(t_end/h/frames))  # timesteps per frame"
   ]
  },
  {
   "cell_type": "markdown",
   "metadata": {},
   "source": [
    "### Classes and functions"
   ]
  },
  {
   "cell_type": "code",
   "execution_count": 44,
   "metadata": {},
   "outputs": [],
   "source": [
    "class Point:\n",
    "    def __init__(self):\n",
    "        self.x = np.zeros(2)  # position\n",
    "        self.v = np.zeros(2)  # velocity\n",
    "        self.f = np.zeros(2)  # force\n",
    "\n",
    "        self.K = 0.  # kinetic energy\n",
    "        self.P = 0.  # potential energy\n",
    "        self.C = 0.  # contact energy\n",
    "\n",
    "    def clear_force(self):\n",
    "        self.f = np.zeros(2)\n",
    "\n",
    "    def add_gravity(self):\n",
    "        self.f[1] = self.f[1] - m * g  # current force + downwards gravity\n",
    "\n",
    "        self.P = self.x[1] * m * g  # calculate potential energy\n",
    "\n",
    "    def add_damping(self):\n",
    "        self.f = self.f - self.v * gamma\n",
    "\n",
    "    def add_walls(self):\n",
    "        left_C, right_C, ground_C = 0, 0, 0\n",
    "\n",
    "        if ground_flag:\n",
    "            self.f[1] = self.f[1] - self.x[1] * k * (self.x[1] < ground)\n",
    "            ground_C = k/2 * self.x[1]**2 * (self.x[1] < ground)\n",
    "        if left_flag and self.x[0] < left_wall:\n",
    "            self.f[0] = self.f[0] + (left_wall - self.x[0]) * k\n",
    "            left_C = k/2 * (left_wall - self.x[0])**2\n",
    "        if right_flag and self.x[0] > right_wall:\n",
    "            self.f[0] = self.f[0] - (self.x[0] - right_wall) * k\n",
    "            right_C = k/2 * (self.x[0] - right_wall)**2\n",
    "\n",
    "        self.C = left_C + right_C + ground_C  # calculate contact energy\n",
    "\n",
    "    def make_step(self):  # using semi-implicit Euler method\n",
    "        self.v = self.v + h/m * self.f\n",
    "        self.x = self.x + h * self.v\n",
    "\n",
    "        self.K = m/2 * np.linalg.norm(self.v)**2  # calculate kinetic energy\n",
    "\n",
    "\n",
    "class Spring:\n",
    "    def __init__(self):\n",
    "        self.p1 = 0  # index of first mass point\n",
    "        self.p2 = 0  # index of second mass point\n",
    "\n",
    "        self.f = np.zeros(2)  # spring force\n",
    "        self.U = 0.  # spring energy\n",
    "\n",
    "    def calculate_spring_force(self, points):\n",
    "        dx = points[self.p1].x - points[self.p2].x  # spring vector\n",
    "        l = np.linalg.norm(dx)  # length of spring vector\n",
    "\n",
    "        self.f = -k * (l - L) / l * dx  # vector form of Hooke's law\n",
    "        self.U = k/2 * (l - L)**2  # calculate spring energy\n",
    "\n",
    "    def update_point_forces(self, points):\n",
    "        points[self.p1].f = points[self.p1].f + self.f\n",
    "        points[self.p2].f = points[self.p2].f - self.f"
   ]
  },
  {
   "cell_type": "markdown",
   "metadata": {},
   "source": [
    "### Main code\n",
    "As the indexing for connecting the points to the right springs is rather complicated, this part of the code was provided by the lecturer."
   ]
  },
  {
   "cell_type": "code",
   "execution_count": 45,
   "metadata": {},
   "outputs": [],
   "source": [
    "# Place the mass points:\n",
    "points = [Point() for i in range(N)]\n",
    "for i in range(n):\n",
    "    for j in range(n):\n",
    "        points[i*n+j].x = x0 + np.array([j*L + i % 2 * L/2, i*L * np.sqrt(3)/2])\n",
    "        points[i*n+j].v = v0\n",
    "\n",
    "# Connect the points by springs:\n",
    "springs = [Spring() for j in range(M)]\n",
    "for i in range(n):\n",
    "    for j in range(n-1):\n",
    "        s1 = i * (n-1) + j\n",
    "        s2 = n * (n-1) + s1\n",
    "        springs[s1].p1 = i * n + j\n",
    "        springs[s1].p2 = i * n + j + 1\n",
    "        springs[s2].p1 = j * n + i\n",
    "        springs[s2].p2 = (j+1) * n + i\n",
    "\n",
    "for i in range(n-1):\n",
    "    for j in range(n-1):\n",
    "        s = i * (n-1) + j + 2 * n * (n-1)\n",
    "        springs[s].p1 = i * n + j + (i+1) % 2\n",
    "        springs[s].p2 = (i+1) * n + j + i % 2"
   ]
  },
  {
   "cell_type": "markdown",
   "metadata": {},
   "source": [
    "### Plot initialization\n",
    "The initialized plot with the walls in grey can be seen before the simulation is run."
   ]
  },
  {
   "cell_type": "code",
   "execution_count": 46,
   "metadata": {},
   "outputs": [
    {
     "data": {
      "image/png": "[encoded data removed]",
      "text/plain": [
       "<Figure size 1200x600 with 2 Axes>"
      ]
     },
     "metadata": {},
     "output_type": "display_data"
    }
   ],
   "source": [
    "fig = plt.figure(figsize=(12, 6), dpi=100)\n",
    "\n",
    "ax1 = fig.add_subplot(1, 2, 1)\n",
    "\n",
    "if ground_flag:  # make ground gray\n",
    "    ax1.axhspan(ground - 0.05, ground, color=\"gray\", alpha=0.3)\n",
    "if ceil_flag:\n",
    "    ax1.axhspan(ceiling, ceiling + 0.05, color=\"gray\", alpha=0.3)\n",
    "if left_flag:\n",
    "    ax1.axvspan(left_wall - 0.05, left_wall, color=\"gray\", alpha=0.3)\n",
    "if right_flag:\n",
    "    ax1.axvspan(right_wall, right_wall + 0.05, color=\"gray\", alpha=0.3)\n",
    "\n",
    "\n",
    "ax1.set_xlim(left_wall-0.01, right_wall + 0.01)\n",
    "ax1.set_ylim(ground - 0.01, ceiling + 0.01)\n",
    "ax1.set_title(\"Mass-spring model of a rubber block\")\n",
    "ax1.set_xlabel(\"x [m]\")\n",
    "ax1.set_ylabel(\"z [m]\")\n",
    "\n",
    "ax2 = fig.add_subplot(1, 2, 2)\n",
    "ax2.set_yscale(\"log\")\n",
    "ax2.set_xlim(0, t_end)\n",
    "ax2.set_ylim(1e-6, 1e-1)\n",
    "ax2.set_title(\"Energy contributions in the system over time\")\n",
    "ax2.set_xlabel(\"Time [s]\")\n",
    "ax2.set_ylabel(\"Energy [J]\")\n",
    "\n",
    "# Draw shape that is simulated:\n",
    "lines = [ax1.plot([], [], \"m-\", lw=2)[0] for _ in range(M)]\n",
    "\n",
    "# Draw lines of energy diagram:\n",
    "l1, = ax2.plot([], [], color=\"C0\", label=\"Spring energy (U)\")\n",
    "l2, = ax2.plot([], [], color=\"C1\", label=\"Kinetic energy (K)\")\n",
    "l3, = ax2.plot([], [], color=\"C2\", label=\"Potential energy (P)\")\n",
    "l4, = ax2.plot([], [], color=\"C3\", label=\"Contact energy (C)\")\n",
    "l5, = ax2.plot([], [], color=\"k\", label=\"Total energy\")\n",
    "\n",
    "ax2.legend(loc=\"lower right\")\n",
    "\n",
    "data = [lines, l1, l2, l3, l4, l5]\n",
    "t, U, K, P, C = [], [], [], [], []\n",
    "\n",
    "plt.tight_layout()"
   ]
  },
  {
   "cell_type": "markdown",
   "metadata": {},
   "source": [
    "### Run the simulation"
   ]
  },
  {
   "cell_type": "code",
   "execution_count": 47,
   "metadata": {},
   "outputs": [],
   "source": [
    "def run_simulation(frame):\n",
    "    for step in range(steps_per_frame):\n",
    "        for i in range(N):  # calculate external forces\n",
    "            points[i].clear_force()\n",
    "            points[i].add_gravity()\n",
    "            points[i].add_damping()\n",
    "            points[i].add_walls()\n",
    "\n",
    "        for j in range(M):  # calculate spring forces\n",
    "            springs[j].calculate_spring_force(points)\n",
    "            springs[j].update_point_forces(points)\n",
    "\n",
    "        for i in range(N):  # make time step\n",
    "            points[i].make_step()\n",
    "\n",
    "    for j in range(M):\n",
    "        x1 = points[springs[j].p1].x\n",
    "        x2 = points[springs[j].p2].x\n",
    "        data[0][j].set_data([x1[0], x2[0]], [x1[1], x2[1]])\n",
    "\n",
    "    t.append(round(frame * steps_per_frame * h, 2))\n",
    "    U.append(sum([springs[j].U for j in range(M)]))\n",
    "    K.append(sum([points[i].K for i in range(N)]))\n",
    "    P.append(sum([points[i].P for i in range(N)]))\n",
    "    C.append(sum([points[i].C for i in range(N)]))\n",
    "    T = np.array([U, K, P, C]).sum(axis=0)\n",
    "\n",
    "    data[1].set_data(t, U)\n",
    "    data[2].set_data(t, K)\n",
    "    data[3].set_data(t, P)\n",
    "    data[4].set_data(t, C)\n",
    "    data[5].set_data(t, T)\n",
    "\n",
    "    return data"
   ]
  },
  {
   "cell_type": "markdown",
   "metadata": {},
   "source": [
    "### Save the simulation animation"
   ]
  },
  {
   "cell_type": "code",
   "execution_count": 48,
   "metadata": {},
   "outputs": [],
   "source": [
    "ani = FuncAnimation(fig, run_simulation, frames=frames, interval=1000/FPS)\n",
    "ani.save(\"output/mass_spring.gif\", fps=FPS)"
   ]
  },
  {
   "cell_type": "markdown",
   "metadata": {},
   "source": [
    "When damping is off, the rubber block bounces endlessly due to the symplectic nature of the semi-implicit Euler method, conserving the system's total energy (T, black). The conversion of part of the gravitational potential energy (P, green) into kinetic energy (K, orange) becomes apparent. The asymmetry in the block's shape leads to its rotation. The elastic spring energy (U, blue) remains nearly zero until the block's initial collision with the ground, triggering ongoing spring oscillations.\n",
    "\n",
    "In contrast, enabling damping causes the elastic block to bounce only a few times before settling. The overall energy of the system (T, black) diminishes gradually towards a stable state. The exponential reduction of kinetic energy (K, orange) is characteristic of damped elastic systems. Damping also curtails spring oscillations, resulting in the decline of spring energy (U, blue), though it doesn't reach zero due to the block's gravitational compression. In the stable state, the spring energy due to gravitational compression (U, blue) approximates the energy from ground contact (C, red), signifying equilibrium between the two forces."
   ]
  }
 ],
 "metadata": {
  "kernelspec": {
   "display_name": "base",
   "language": "python",
   "name": "python3"
  },
  "language_info": {
   "codemirror_mode": {
    "name": "ipython",
    "version": 3
   },
   "file_extension": ".py",
   "mimetype": "text/x-python",
   "name": "python",
   "nbconvert_exporter": "python",
   "pygments_lexer": "ipython3",
   "version": "3.11.4"
  },
  "orig_nbformat": 4
 },
 "nbformat": 4,
 "nbformat_minor": 2
}
