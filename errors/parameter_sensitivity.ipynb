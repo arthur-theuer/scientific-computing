{
 "cells": [
  {
   "cell_type": "markdown",
   "metadata": {},
   "source": [
    "# Scientific Computing 6.2: Parameter sensitivity\n",
    "This program returns to the Lotka-Volterra predator-prey model, given by the following equations:\n",
    "\n",
    "$$\n",
    "\\frac{{dR}}{{dt}} = \\alpha R(t) - \\beta R(t)F(t), \\quad \\frac{{dF}}{{dt}} = -\\gamma F(t) + \\delta R(t)F(t)\n",
    "$$\n",
    "\n",
    "where:\n",
    "- $R(t)$: population of rabbits (the prey) over time\n",
    "- $F(t)$: population of foxes (the predators) over time\n",
    "\n",
    "The parameters are:\n",
    "- $\\alpha$: reproduction rate of rabbits\n",
    "- $\\beta$: rate at which foxes kill rabbits\n",
    "- $\\gamma$: fox mortality rate\n",
    "- $\\delta$: reproduction rate of foxes relative to rabbit abundance"
   ]
  },
  {
   "cell_type": "code",
   "execution_count": 81,
   "metadata": {},
   "outputs": [],
   "source": [
    "import numpy as np\n",
    "import matplotlib.pyplot as plt"
   ]
  },
  {
   "cell_type": "markdown",
   "metadata": {},
   "source": [
    "### Parameter sensitivity analysis\n",
    "Now we want to determine the sensitivity of the model to small changes in the initial parameters. To do this, we solve the full transient initial value problem to find the evolution of the populations of rabbits and foxes using the following parameters:\n",
    "- $\\alpha = 100$\n",
    "- $\\beta = 1.5$\n",
    "- $\\gamma = 10$\n",
    "- $\\delta = 0.01$\n",
    "\n",
    "From the initial condition $R(0) = 1000$, $F(0) = 100$, this program solves the Lotka–Volterra equations numerically from $t = 0$ to $t = 1$, using the Runge-Kutta 4 method. Finally, the relative condition numbers $k_{rel}$ is determined for variations in each parameter (e.g. $\\alpha = \\alpha + k \\alpha$). The corresponding relative condition is given by:\n",
    "\n",
    "$$k_{rel,\\alpha} = \\left| \\frac{f(\\alpha + k \\alpha, \\beta, \\gamma, \\delta)}{f(\\alpha, \\beta, \\gamma, \\delta)} -1 \\right| k^{-1}$$"
   ]
  },
  {
   "cell_type": "markdown",
   "metadata": {},
   "source": [
    "### Initialization"
   ]
  },
  {
   "cell_type": "code",
   "execution_count": 82,
   "metadata": {},
   "outputs": [],
   "source": [
    "alpha = 100  # rabbit reproduction rate\n",
    "beta = 1.5  # fox kill rate\n",
    "gamma = 10  # fox death rate\n",
    "delta = 0.01  # relative fox reproduction rate\n",
    "\n",
    "k = 0.0001  # relative variation in the parameters (parameter * (1+k))\n",
    "\n",
    "T = 1  # total simulation time\n",
    "h = 0.002  # step size\n",
    "N = int(np.ceil(T/h))  # number of time steps\n",
    "\n",
    "x = np.array([[1000], [100]])  # initial rabbit and fox population\n",
    "t = h * np.arange(N+1)  # vector of time steps"
   ]
  },
  {
   "cell_type": "markdown",
   "metadata": {},
   "source": [
    "### Functions"
   ]
  },
  {
   "cell_type": "code",
   "execution_count": 83,
   "metadata": {},
   "outputs": [],
   "source": [
    "def f(x, a, b, g, d):  # function that returns function value of Lokta-Volterra system\n",
    "    return np.array([[a*x[0, 0] - b*x[0, 0]*x[1, 0]], [d*x[0, 0]*x[1, 0] - g*x[1, 0]]])\n",
    "\n",
    "\n",
    "def runge_kutta_4(x, h, N, a, b, g, d):\n",
    "    result = np.zeros((x.shape[0], N+1))  # pre-allocate result array\n",
    "    result[:, 0] = x[:, 0]  # store the initial state in the result array\n",
    "\n",
    "    for i in range(N):\n",
    "        k1 = f(x, a, b, g, d)\n",
    "        k2 = f(x + k1 * h/2, a, b, g, d)\n",
    "        k3 = f(x + k2 * h/2, a, b, g, d)\n",
    "        k4 = f(x + k3 * h, a, b, g, d)\n",
    "\n",
    "        x_new = x + h/6 * (k1 + 2*k2 + 2*k3 + k4)\n",
    "        result[:, i+1] = x_new[:, 0]  # store the new state in the result array\n",
    "        x = x_new\n",
    "\n",
    "    return result\n",
    "\n",
    "\n",
    "def sensitivity(x, h, N, a, b, g, d, k):\n",
    "    # We are interested in the foxes value at t = 1 (take last element of fox result):\n",
    "    func = runge_kutta_4(x, h, N, a, b, g, d)[1, -1]\n",
    "    func_a = runge_kutta_4(x, h, N, (1+k)*a, b, g, d)[1, -1]\n",
    "    func_b = runge_kutta_4(x, h, N, a, (1+k)*b, g, d)[1, -1]\n",
    "    func_g = runge_kutta_4(x, h, N, a, b, (1+k)*g, d)[1, -1]\n",
    "    func_d = runge_kutta_4(x, h, N, a, b, g, (1+k)*d)[1, -1]\n",
    "\n",
    "    # Calculate relative condition numbers:\n",
    "    kappa_a = abs(func_a/func - 1) / k\n",
    "    kappa_b = abs(func_b/func - 1) / k\n",
    "    kappa_g = abs(func_g/func - 1) / k\n",
    "    kappa_d = abs(func_d/func - 1) / k\n",
    "\n",
    "    return kappa_a, kappa_b, kappa_g, kappa_d"
   ]
  },
  {
   "cell_type": "markdown",
   "metadata": {},
   "source": [
    "### Main code"
   ]
  },
  {
   "cell_type": "code",
   "execution_count": 84,
   "metadata": {},
   "outputs": [
    {
     "name": "stdout",
     "output_type": "stream",
     "text": [
      "kappa_alpha = 1.1724\n",
      "kappa_beta  = 1.6756\n",
      "kappa_gamma = 0.7682\n",
      "kappa_delta = 0.0254\n"
     ]
    }
   ],
   "source": [
    "# Get relative condition numbers and print results:\n",
    "k_a, k_b, k_g, k_d = sensitivity(x, h, N, alpha, beta, gamma, delta, k)\n",
    "\n",
    "print(f\"kappa_alpha = {k_a:.4f}\")\n",
    "print(f\"kappa_beta  = {k_b:.4f}\")\n",
    "print(f\"kappa_gamma = {k_g:.4f}\")\n",
    "print(f\"kappa_delta = {k_d:.4f}\")"
   ]
  },
  {
   "cell_type": "markdown",
   "metadata": {},
   "source": [
    "The parameter $\\beta$ (fox kill rate) is the most sensitive, as its relative condition number $k_{rel, \\beta}$ is the highest. This parameter needs to be known with the highest accuracy to get an accurate model."
   ]
  }
 ],
 "metadata": {
  "kernelspec": {
   "display_name": "base",
   "language": "python",
   "name": "python3"
  },
  "language_info": {
   "codemirror_mode": {
    "name": "ipython",
    "version": 3
   },
   "file_extension": ".py",
   "mimetype": "text/x-python",
   "name": "python",
   "nbconvert_exporter": "python",
   "pygments_lexer": "ipython3",
   "version": "3.11.4"
  },
  "orig_nbformat": 4
 },
 "nbformat": 4,
 "nbformat_minor": 2
}
